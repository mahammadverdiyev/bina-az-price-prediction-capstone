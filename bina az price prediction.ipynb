{
 "cells": [
  {
   "cell_type": "code",
   "execution_count": null,
   "metadata": {
    "collapsed": true,
    "pycharm": {
     "name": "#%%\n"
    }
   },
   "outputs": [],
   "source": [
    "import numpy as np\n",
    "import pandas as pd\n",
    "import pymysql as ms\n",
    "import seaborn as sns\n",
    "from sklearn.linear_model import LinearRegression\n",
    "import matplotlib.pyplot as plt\n",
    "import sklearn.preprocessing as sp\n",
    "from sklearn.preprocessing import RobustScaler\n",
    "from sklearn.preprocessing import StandardScaler\n",
    "from sklearn.linear_model import Lasso\n",
    "from sklearn.model_selection import RepeatedKFold\n",
    "\n",
    "import sklearn.linear_model as lm\n",
    "import sklearn.tree as tree\n",
    "import sklearn.svm as svm\n",
    "import sklearn.ensemble as ens\n",
    "from sklearn.ensemble import RandomForestRegressor\n",
    "from sklearn.tree import DecisionTreeRegressor\n",
    "\n",
    "import sklearn.metrics as met\n",
    "\n",
    "from sklearn.model_selection import train_test_split, GridSearchCV, KFold\n",
    "from sklearn.base import BaseEstimator, TransformerMixin\n",
    "from sklearn.pipeline import Pipeline\n",
    "import dill\n",
    "import pickle\n",
    "import requests\n",
    "from bs4 import BeautifulSoup\n",
    "import pymysql"
   ]
  },
  {
   "cell_type": "code",
   "execution_count": null,
   "metadata": {
    "pycharm": {
     "name": "#%%\n"
    }
   },
   "outputs": [],
   "source": [
    "connection = pymysql.connect(\n",
    "    host='localhost',  # 127.0.0.1\n",
    "    password='12345678',\n",
    "    database='ds'\n",
    ")"
   ]
  },
  {
   "cell_type": "code",
   "execution_count": null,
   "metadata": {
    "pycharm": {
     "name": "#%%\n"
    }
   },
   "outputs": [],
   "source": [
    "pd.set_option('display.float_format', lambda x: '%.3f' % x)"
   ]
  },
  {
   "cell_type": "code",
   "execution_count": null,
   "metadata": {
    "pycharm": {
     "name": "#%%\n"
    }
   },
   "outputs": [],
   "source": [
    "df = pd.read_sql('select * from bina_db', con=connection).set_index('elan_id').drop(['id'], axis=1)"
   ]
  },
  {
   "cell_type": "code",
   "execution_count": null,
   "metadata": {
    "pycharm": {
     "name": "#%%\n"
    }
   },
   "outputs": [],
   "source": [
    "class ColumnDropper():\n",
    "    def __init__(self, columns):\n",
    "        self.columns = columns\n",
    "\n",
    "    def transform(self, _X, y=None):\n",
    "        X = _X.copy(deep=True)\n",
    "        return X.drop(self.columns, axis=1)\n",
    "\n",
    "    def fit(self, X, y=None):\n",
    "        return self"
   ]
  },
  {
   "cell_type": "code",
   "execution_count": null,
   "metadata": {
    "pycharm": {
     "name": "#%%\n"
    }
   },
   "outputs": [],
   "source": [
    "class FeatureSelector(BaseEstimator, TransformerMixin):\n",
    "    def __init__(self, feature_names):\n",
    "        self.feature_names = feature_names\n",
    "\n",
    "    def fit(self, X, y=None):\n",
    "        return self\n",
    "\n",
    "    def transform(self, X, y=None):\n",
    "        return X.loc[:, self.feature_names].copy(deep=True)"
   ]
  },
  {
   "cell_type": "code",
   "execution_count": null,
   "metadata": {
    "pycharm": {
     "name": "#%%\n"
    }
   },
   "outputs": [],
   "source": [
    "class AverageCategoricalConverter(BaseEstimator, TransformerMixin):\n",
    "    def __init__(self, feature_names):\n",
    "        self.feature_names = feature_names\n",
    "\n",
    "    def fit(self, X, y=None):\n",
    "        return self\n",
    "\n",
    "    def transform(self, _X, y=None):\n",
    "        X = _X.copy(deep=True)\n",
    "        for feature in self.feature_names:\n",
    "            feature_avg = X[[feature, 'qiymet']].groupby(by=feature).mean()\n",
    "            feature_avg.rename(columns={'qiymet': f'{feature}_avg'}, inplace=True)\n",
    "            X = X.merge(feature_avg, how='left', left_on=feature, right_index=True)\n",
    "        return X\n"
   ]
  },
  {
   "cell_type": "code",
   "execution_count": null,
   "metadata": {
    "pycharm": {
     "name": "#%%\n"
    }
   },
   "outputs": [],
   "source": [
    "class DataCleaner(BaseEstimator, TransformerMixin):\n",
    "    def fit(self, X, y=None):\n",
    "        return self\n",
    "\n",
    "    def transform(self, _X, y=None):\n",
    "        X = _X.copy(deep=True)\n",
    "        X['mertebe'] = X.mertebe.apply(lambda x: x.split('/')[0].strip()).astype(int)\n",
    "        X['sahe'] = X['sahe'].apply(lambda x: x.split(' ')[0]).astype(float)\n",
    "        X['qiymet'] = X['qiymet'].apply(lambda x: ''.join(x.split(' ')[:-1])).astype(int)\n",
    "        X['kvm_qiymet'] = X['kvm_qiymet'].apply(lambda x: ''.join(x.split(' ')[:-1])).astype(float)\n",
    "        X['otaq_say'] = X['otaq_say'].astype(int)\n",
    "        X['baxis_say'] = X['baxis_say'].astype(int)\n",
    "        X['kupca'] = X['kupca'].apply(lambda x: 1 if x == 'var' else 0)\n",
    "        X['ipoteka'] = X['ipoteka'].apply(lambda x: 1 if x == 'var' else 0)\n",
    "        return X"
   ]
  },
  {
   "cell_type": "code",
   "execution_count": null,
   "metadata": {
    "pycharm": {
     "name": "#%%\n"
    }
   },
   "outputs": [],
   "source": [
    "class FeatureGenerator(BaseEstimator, TransformerMixin):\n",
    "    def fit(self, X, y=None):\n",
    "        return self\n",
    "\n",
    "    def transform(self, _X, y=None):\n",
    "        X = _X.copy(deep=True)\n",
    "        X['mertebe_bina'] = X.mertebe.apply(lambda x: x.split('/')[1].strip()).astype(int)\n",
    "        X['valyuta'] = X['qiymet'].apply(lambda x: x.split(' ')[-1].strip())\n",
    "\n",
    "        df_tecili = pd.read_sql(\"select elan_id,info from bina_db where lower(info) like '%t_cil_%'\",\n",
    "                                connection).set_index('elan_id')\n",
    "        temp_df = X.copy(deep=True)\n",
    "        last_df = temp_df.merge(df_tecili[['info']], on='elan_id', how='left', suffixes=['', '_x'])\n",
    "        last_df['tecili'] = last_df['info_x'].isna().apply(lambda x: 1 if x is False else 0)\n",
    "        last_df = last_df.drop(['info_x'], axis=1)\n",
    "        return last_df"
   ]
  },
  {
   "cell_type": "code",
   "execution_count": null,
   "metadata": {
    "pycharm": {
     "name": "#%%\n"
    }
   },
   "outputs": [],
   "source": [
    "class PolynomialFeaturesGenerator(BaseEstimator, TransformerMixin):\n",
    "    def __init__(self, pol_features):\n",
    "        self.pol_features = pol_features\n",
    "\n",
    "    def fit(self, X, y=None):\n",
    "        return self\n",
    "\n",
    "    def transform(self, _X, y=None):\n",
    "        X = _X.copy(deep=True)\n",
    "\n",
    "        if self.pol_features is None:\n",
    "            pols = X\n",
    "            self.pol_features = pols.columns\n",
    "        else:\n",
    "            pols = X[self.pol_features]\n",
    "\n",
    "        poly = sp.PolynomialFeatures()\n",
    "\n",
    "        poly_df = pd.DataFrame(poly.fit_transform(pols), index=X.index)\n",
    "        poly_df = poly_df.iloc[:, len(self.pol_features) + 1:]\n",
    "        cols = []\n",
    "        for i in range(len(self.pol_features)):\n",
    "            for j in range(i, len(self.pol_features)):\n",
    "                cols.append(self.pol_features[i] + '_' + self.pol_features[j])\n",
    "        poly_df.columns = cols\n",
    "        X = X.join(poly_df, how='left')\n",
    "        return X"
   ]
  },
  {
   "cell_type": "code",
   "execution_count": null,
   "metadata": {
    "pycharm": {
     "name": "#%%\n"
    }
   },
   "outputs": [],
   "source": [
    "class CustomOneHotEncoder(BaseEstimator, TransformerMixin):\n",
    "    def __init__(self, feature_names):\n",
    "        self.feature_names = feature_names\n",
    "\n",
    "    def fit(self, X, y=None):\n",
    "        return self\n",
    "\n",
    "    def transform(self, _X, y=None):\n",
    "        X = _X.copy(deep=True)\n",
    "        for feature in self.feature_names:\n",
    "            cols = pd.get_dummies(X[feature], drop_first=True, prefix=f'{feature}').columns.values\n",
    "            X[cols] = pd.get_dummies(X[feature], drop_first=True, prefix=f'{feature}')\n",
    "        return X"
   ]
  },
  {
   "cell_type": "code",
   "execution_count": null,
   "metadata": {
    "pycharm": {
     "name": "#%%\n"
    }
   },
   "outputs": [],
   "source": [
    "target = 'qiymet'"
   ]
  },
  {
   "cell_type": "code",
   "execution_count": null,
   "metadata": {
    "pycharm": {
     "name": "#%%\n"
    }
   },
   "outputs": [],
   "source": [
    "polcols = ['sahe','mertebe','tecili','kupca','otaq_say']"
   ]
  },
  {
   "cell_type": "code",
   "execution_count": null,
   "metadata": {
    "pycharm": {
     "name": "#%%\n"
    }
   },
   "outputs": [],
   "source": [
    "preprocessor_pipeline = Pipeline([\n",
    "    ('feature_generator', FeatureGenerator()),\n",
    "    ('cleaner', DataCleaner()),\n",
    "    ('onehot_kateqoriya', CustomOneHotEncoder(['kateqoriya'])),\n",
    "    ('drop_irrelevant', ColumnDropper(['kateqoriya', 'info', 'satici', 'elan_basliq', 'valyuta','kvm_qiymet'])),\n",
    "    ('ortaqiymet_adres', AverageCategoricalConverter(['adres'])),\n",
    "    ('drop_adres', ColumnDropper(['adres'])),\n",
    "])\n",
    "\n"
   ]
  },
  {
   "cell_type": "code",
   "execution_count": null,
   "metadata": {
    "pycharm": {
     "name": "#%%\n"
    }
   },
   "outputs": [],
   "source": [
    "data = preprocessor_pipeline.transform(df)"
   ]
  },
  {
   "cell_type": "code",
   "execution_count": null,
   "outputs": [],
   "source": [
    "polgenerator = PolynomialFeaturesGenerator(None)"
   ],
   "metadata": {
    "collapsed": false,
    "pycharm": {
     "name": "#%%\n"
    }
   }
  },
  {
   "cell_type": "code",
   "execution_count": null,
   "outputs": [],
   "source": [
    "qiymet = data.qiymet"
   ],
   "metadata": {
    "collapsed": false,
    "pycharm": {
     "name": "#%%\n"
    }
   }
  },
  {
   "cell_type": "code",
   "execution_count": null,
   "outputs": [],
   "source": [
    "data = polgenerator.transform(data.drop(columns=['qiymet'],axis=1))\n",
    "data['qiymet'] = qiymet"
   ],
   "metadata": {
    "collapsed": false,
    "pycharm": {
     "name": "#%%\n"
    }
   }
  },
  {
   "cell_type": "code",
   "execution_count": null,
   "outputs": [],
   "source": [
    "sns.boxplot(data.qiymet)"
   ],
   "metadata": {
    "collapsed": false,
    "pycharm": {
     "name": "#%%\n"
    }
   }
  },
  {
   "cell_type": "markdown",
   "metadata": {
    "pycharm": {
     "name": "#%% md\n"
    }
   },
   "source": [
    "# Exploratory Data Analysis"
   ]
  },
  {
   "cell_type": "code",
   "execution_count": null,
   "metadata": {
    "pycharm": {
     "name": "#%%\n"
    }
   },
   "outputs": [],
   "source": [
    "features = ['mertebe', 'otaq_say', 'sahe', 'qiymet', 'mertebe_bina']"
   ]
  },
  {
   "cell_type": "code",
   "execution_count": null,
   "metadata": {
    "pycharm": {
     "name": "#%%\n"
    }
   },
   "outputs": [],
   "source": [
    "temp_data = data[features]"
   ]
  },
  {
   "cell_type": "code",
   "execution_count": null,
   "metadata": {
    "pycharm": {
     "name": "#%%\n"
    }
   },
   "outputs": [],
   "source": [
    "temp_data.info()"
   ]
  },
  {
   "cell_type": "code",
   "execution_count": null,
   "metadata": {
    "pycharm": {
     "name": "#%%\n"
    }
   },
   "outputs": [],
   "source": [
    "temp_data.describe().T"
   ]
  },
  {
   "cell_type": "code",
   "execution_count": null,
   "metadata": {
    "pycharm": {
     "name": "#%%\n"
    }
   },
   "outputs": [],
   "source": [
    "temp_data.shape"
   ]
  },
  {
   "cell_type": "code",
   "execution_count": null,
   "metadata": {
    "pycharm": {
     "name": "#%%\n"
    }
   },
   "outputs": [],
   "source": [
    "# Outlier Analysis\n",
    "fig, axs = plt.subplots(2, 3, figsize=(15, 10))\n",
    "plt1 = sns.boxplot(temp_data['qiymet'], ax=axs[0, 0])\n",
    "plt2 = sns.boxplot(temp_data['sahe'], ax=axs[0, 1])\n",
    "plt3 = sns.boxplot(temp_data['otaq_say'], ax=axs[0, 2])\n",
    "plt1 = sns.boxplot(temp_data['mertebe'], ax=axs[1, 0])\n",
    "plt2 = sns.boxplot(temp_data['mertebe_bina'], ax=axs[1, 1])\n",
    "\n",
    "plt.tight_layout()"
   ]
  },
  {
   "cell_type": "code",
   "execution_count": null,
   "metadata": {
    "pycharm": {
     "name": "#%%\n"
    }
   },
   "outputs": [],
   "source": [
    "plt.boxplot(temp_data.qiymet)\n",
    "low_threshold = temp_data.qiymet.quantile(0.0001)\n",
    "high_threshold = temp_data.qiymet.quantile(0.99)\n",
    "temp_data = temp_data[(temp_data.qiymet >= low_threshold) & (temp_data.qiymet <= high_threshold)]"
   ]
  },
  {
   "cell_type": "code",
   "execution_count": null,
   "metadata": {
    "pycharm": {
     "name": "#%%\n"
    }
   },
   "outputs": [],
   "source": [
    "temp_data.sahe.describe()"
   ]
  },
  {
   "cell_type": "code",
   "execution_count": null,
   "metadata": {
    "pycharm": {
     "name": "#%%\n"
    }
   },
   "outputs": [],
   "source": [
    "plt.boxplot(temp_data.sahe)\n",
    "low_threshold = temp_data.sahe.quantile(0.001)\n",
    "high_threshold = temp_data.sahe.quantile(0.99)\n",
    "temp_data = temp_data[(temp_data.sahe >= low_threshold) & (temp_data.sahe <= high_threshold)]"
   ]
  },
  {
   "cell_type": "code",
   "execution_count": null,
   "metadata": {
    "pycharm": {
     "name": "#%%\n"
    }
   },
   "outputs": [],
   "source": [
    "temp_data.columns"
   ]
  },
  {
   "cell_type": "code",
   "execution_count": null,
   "metadata": {
    "pycharm": {
     "name": "#%%\n"
    }
   },
   "outputs": [],
   "source": [
    "sns.pairplot(temp_data)\n",
    "plt.show()"
   ]
  },
  {
   "cell_type": "code",
   "execution_count": null,
   "metadata": {
    "pycharm": {
     "name": "#%%\n"
    }
   },
   "outputs": [],
   "source": [
    "plt.figure(figsize=(16, 10))\n",
    "sns.heatmap(temp_data.corr(), annot=True, cmap=\"YlGnBu\")\n",
    "plt.show()"
   ]
  },
  {
   "cell_type": "code",
   "execution_count": null,
   "metadata": {
    "pycharm": {
     "name": "#%%\n"
    }
   },
   "outputs": [],
   "source": [
    "data = temp_data.merge(data.drop(features, axis=1), on='elan_id')"
   ]
  },
  {
   "cell_type": "code",
   "execution_count": null,
   "metadata": {
    "pycharm": {
     "name": "#%%\n"
    }
   },
   "outputs": [],
   "source": [
    "data"
   ]
  },
  {
   "cell_type": "code",
   "execution_count": null,
   "metadata": {
    "pycharm": {
     "name": "#%%\n"
    }
   },
   "outputs": [],
   "source": [
    "y = data[target]\n",
    "X = data.drop([target], axis=1)\n",
    "X"
   ]
  },
  {
   "cell_type": "code",
   "execution_count": null,
   "metadata": {
    "pycharm": {
     "name": "#%%\n"
    }
   },
   "outputs": [],
   "source": [
    "sc = StandardScaler()\n",
    "X_scaled = sc.fit_transform(X)\n",
    "X_scaled = pd.DataFrame(data=X_scaled, columns=X.columns)"
   ]
  },
  {
   "cell_type": "code",
   "execution_count": null,
   "metadata": {
    "pycharm": {
     "name": "#%%\n"
    }
   },
   "outputs": [],
   "source": [
    "X_scaled"
   ]
  },
  {
   "cell_type": "code",
   "execution_count": null,
   "metadata": {
    "pycharm": {
     "name": "#%%\n"
    }
   },
   "outputs": [],
   "source": [
    "X_train, X_test, y_train, y_test = train_test_split(X_scaled, y, test_size=0.3)\n",
    "X_train.shape, X_test.shape"
   ]
  },
  {
   "cell_type": "code",
   "execution_count": null,
   "outputs": [],
   "source": [
    "X_scaled"
   ],
   "metadata": {
    "collapsed": false,
    "pycharm": {
     "name": "#%%\n"
    }
   }
  },
  {
   "cell_type": "code",
   "execution_count": null,
   "metadata": {
    "pycharm": {
     "name": "#%%\n"
    }
   },
   "outputs": [],
   "source": [
    "\n",
    "alphas = np.linspace(0, 10, 10)\n",
    "cv = RepeatedKFold(n_splits=10, n_repeats=3, random_state=100)\n",
    "\n",
    "hyper_param = {'alpha': alphas}\n",
    "\n",
    "lasso_reg = Lasso()\n",
    "\n",
    "grid_lasso = GridSearchCV(estimator=lasso_reg,\n",
    "                          param_grid=hyper_param,\n",
    "                          scoring='r2',\n",
    "                          cv=cv,\n",
    "                          n_jobs=-1,\n",
    "                          return_train_score=True\n",
    "                          )\n",
    "\n",
    "grid_lasso.fit(X_train, y_train)"
   ]
  },
  {
   "cell_type": "code",
   "execution_count": null,
   "metadata": {
    "pycharm": {
     "name": "#%%\n"
    }
   },
   "outputs": [],
   "source": [
    "grid_lasso.best_params_"
   ]
  },
  {
   "cell_type": "code",
   "execution_count": null,
   "metadata": {
    "pycharm": {
     "name": "#%%\n"
    }
   },
   "outputs": [],
   "source": [
    "\n",
    "from sklearn.linear_model import Ridge\n",
    "\n",
    "model_params = {\n",
    "    'tree': {\n",
    "        'model': DecisionTreeRegressor(),\n",
    "        'params': {\n",
    "            \"max_depth\": [None, 1, 3, 5, 7, 9, 11, 12],\n",
    "        }\n",
    "    },\n",
    "    'ridge_regression': {\n",
    "        'model': Ridge(),\n",
    "        'params': {\n",
    "            'alpha': np.arange(0, 1, 0.01)\n",
    "        }\n",
    "    }\n",
    "}"
   ]
  },
  {
   "cell_type": "code",
   "execution_count": null,
   "metadata": {
    "pycharm": {
     "name": "#%%\n"
    }
   },
   "outputs": [],
   "source": [
    "l_reg = LinearRegression()\n",
    "l_reg.fit(X_train, y_train)\n",
    "l_reg.score(X_test,y_test)"
   ]
  },
  {
   "cell_type": "code",
   "execution_count": null,
   "metadata": {
    "pycharm": {
     "name": "#%%\n"
    }
   },
   "outputs": [],
   "source": [
    "scores = []\n",
    "\n",
    "for model_name, mp in model_params.items():\n",
    "    grids = GridSearchCV(mp['model'], mp['params'], cv=5, return_train_score=False, n_jobs=-1)\n",
    "    grids.fit(X_train, y_train)\n",
    "    scores.append({\n",
    "        'model': grids,\n",
    "        'model_name': model_name,\n",
    "        'best_score': grids.best_score_,\n",
    "        'best_params': grids.best_params_\n",
    "    })\n",
    "\n"
   ]
  },
  {
   "cell_type": "code",
   "execution_count": null,
   "metadata": {
    "pycharm": {
     "name": "#%%\n"
    }
   },
   "outputs": [],
   "source": [
    "scores.append({\n",
    "    'model': l_reg,\n",
    "    'model_name': 'linear_regression',\n",
    "    'best_score': l_reg.score(X_test, y_test),\n",
    "    'best_params': 'default'\n",
    "})\n",
    "scores.append({\n",
    "    'model': grid_lasso,\n",
    "    'model_name': 'lasso_regression',\n",
    "    'best_score': grid_lasso.best_score_,\n",
    "    'best_params': grid_lasso.best_params_\n",
    "})\n",
    "\n",
    "rand_forest = RandomForestRegressor()\n",
    "rand_forest.fit(X_train,y_train)\n",
    "scores.append({\n",
    "    'model' : rand_forest,\n",
    "    'model_name' : 'random_forest',\n",
    "    'best_score' : rand_forest.score(X_test,y_test),\n",
    "    'best_params' : 'default'\n",
    "})"
   ]
  },
  {
   "cell_type": "code",
   "execution_count": null,
   "metadata": {
    "pycharm": {
     "name": "#%%\n"
    }
   },
   "outputs": [],
   "source": [
    "for model_score in scores:\n",
    "    curr_model = model_score['model']\n",
    "    model_score['mean_abserr_train'] = met.mean_absolute_error(y_train, curr_model.predict(X_train))\n",
    "    model_score['median_abserr_train'] = met.median_absolute_error(y_train, curr_model.predict(X_train))\n",
    "\n",
    "    model_score['mean_abserr_test'] = met.mean_absolute_error(y_test, curr_model.predict(X_test))\n",
    "    model_score['median_abserr_test'] = met.median_absolute_error(y_test, curr_model.predict(X_test))\n"
   ]
  },
  {
   "cell_type": "code",
   "execution_count": null,
   "metadata": {
    "pycharm": {
     "name": "#%%\n"
    }
   },
   "outputs": [],
   "source": [
    "model_scores = pd.DataFrame(scores, columns=['model_name', 'best_score', 'best_params','mean_abserr_train','median_abserr_train','mean_abserr_test','median_abserr_test'])\n",
    "model_scores"
   ]
  }
 ],
 "metadata": {
  "kernelspec": {
   "display_name": "Python 3 (ipykernel)",
   "language": "python",
   "name": "python3"
  },
  "language_info": {
   "codemirror_mode": {
    "name": "ipython",
    "version": 3
   },
   "file_extension": ".py",
   "mimetype": "text/x-python",
   "name": "python",
   "nbconvert_exporter": "python",
   "pygments_lexer": "ipython3",
   "version": "3.10.4"
  }
 },
 "nbformat": 4,
 "nbformat_minor": 1
}